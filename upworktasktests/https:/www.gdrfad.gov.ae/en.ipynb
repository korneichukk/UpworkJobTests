{
 "cells": [
  {
   "cell_type": "code",
   "execution_count": 1,
   "metadata": {},
   "outputs": [],
   "source": [
    "from selenium import webdriver\n",
    "from selenium.webdriver.common.by import By\n",
    "from selenium_recaptcha_solver import RecaptchaSolver\n",
    "from selenium.webdriver.chrome.service import Service\n",
    "from webdriver_manager.chrome import ChromeDriverManager"
   ]
  },
  {
   "cell_type": "code",
   "execution_count": 2,
   "metadata": {},
   "outputs": [
    {
     "name": "stderr",
     "output_type": "stream",
     "text": [
      "/tmp/ipykernel_21524/1503906442.py:1: DeprecationWarning: executable_path has been deprecated, please pass in a Service object\n",
      "  driver = webdriver.Chrome(ChromeDriverManager().install())\n"
     ]
    }
   ],
   "source": [
    "driver = webdriver.Chrome(ChromeDriverManager().install())"
   ]
  },
  {
   "cell_type": "code",
   "execution_count": 3,
   "metadata": {},
   "outputs": [],
   "source": [
    "driver.get(\"https://www.gdrfad.gov.ae/en\")"
   ]
  },
  {
   "cell_type": "code",
   "execution_count": 4,
   "metadata": {},
   "outputs": [],
   "source": [
    "driver.find_element(By.ID, \"profileBtn\").click()"
   ]
  },
  {
   "cell_type": "code",
   "execution_count": 5,
   "metadata": {},
   "outputs": [],
   "source": [
    "driver.find_element(By.XPATH, \"/html/body/form/div[3]/main/div[2]/div/div/div[2]/div/div[1]/div[1]/div[1]/a\").click()"
   ]
  },
  {
   "cell_type": "code",
   "execution_count": 6,
   "metadata": {},
   "outputs": [],
   "source": [
    "driver.find_element(By.XPATH, \"/html/body/form/div[3]/main/div[2]/div/div/div[2]/div/div[1]/div[2]/div[1]/div/div[2]/div[2]/div[1]/div/div[2]/div/a\").click()"
   ]
  },
  {
   "cell_type": "code",
   "execution_count": 7,
   "metadata": {},
   "outputs": [],
   "source": [
    "eid = driver.find_element(By.XPATH, \"/html/body/form/div[3]/main/div[3]/div/div/div[1]/div[2]/div[1]/div/div[2]/input\")\n",
    "eid.clear()\n",
    "eid.send_keys(\"784198782154748\")"
   ]
  },
  {
   "cell_type": "code",
   "execution_count": 8,
   "metadata": {},
   "outputs": [],
   "source": [
    "option_search = driver.find_element(By.ID, \"select2-chosen-1\").click()\n",
    "option_holder = driver.find_element(By.ID, \"select2-results-1\")\n",
    "options = option_holder.find_elements(By.TAG_NAME, \"li\")\n",
    "\n",
    "for option in options:\n",
    "    if \"INDIA\" in option.text:\n",
    "        option.click()\n",
    "        break"
   ]
  },
  {
   "cell_type": "code",
   "execution_count": 9,
   "metadata": {},
   "outputs": [],
   "source": [
    "dob = driver.find_element(By.XPATH, \"/html/body/form/div[3]/main/div[3]/div/div/div[1]/div[2]/div[2]/div[2]/div[2]/input\")\n",
    "dob.clear()\n",
    "dob.send_keys(\"1987\")"
   ]
  },
  {
   "cell_type": "code",
   "execution_count": 10,
   "metadata": {},
   "outputs": [],
   "source": [
    "iframe = driver.find_element(By.XPATH, \"/html/body/form/div[3]/main/div[3]/div/div/div[2]/div[2]/a/div[1]/div/div/iframe\")"
   ]
  },
  {
   "cell_type": "code",
   "execution_count": 11,
   "metadata": {},
   "outputs": [],
   "source": [
    "solver = RecaptchaSolver(driver=driver)"
   ]
  },
  {
   "cell_type": "code",
   "execution_count": 12,
   "metadata": {},
   "outputs": [],
   "source": [
    "solver.click_recaptcha_v2(iframe=iframe)"
   ]
  },
  {
   "cell_type": "code",
   "execution_count": 13,
   "metadata": {},
   "outputs": [],
   "source": [
    "driver.find_element(\n",
    "    By.XPATH,\n",
    "    \"/html/body/form/div[3]/main/div[3]/div/div/div[2]/div[4]/div/div[1]/input\",\n",
    ").click()"
   ]
  },
  {
   "cell_type": "code",
   "execution_count": 14,
   "metadata": {},
   "outputs": [],
   "source": [
    "driver.find_element(\n",
    "    By.XPATH,\n",
    "    \"/html/body/form/div[3]/main/div[3]/div/div/div[2]/div[4]/input\",\n",
    ").click()"
   ]
  },
  {
   "cell_type": "code",
   "execution_count": 15,
   "metadata": {},
   "outputs": [],
   "source": [
    "import time\n",
    "time.sleep(5)"
   ]
  },
  {
   "cell_type": "code",
   "execution_count": 16,
   "metadata": {},
   "outputs": [
    {
     "data": {
      "text/plain": [
       "'SAVIO CLEMENT SEQUEIRA SEQUEIRA CLEMENT JOSEPH'"
      ]
     },
     "execution_count": 16,
     "metadata": {},
     "output_type": "execute_result"
    }
   ],
   "source": [
    "name_en = driver.find_element(\n",
    "    By.XPATH,\n",
    "    \"/html/body/form/div[3]/main/div[3]/div/div/div[2]/div/div[1]/div[1]/div[2]/span\",\n",
    ").text\n",
    "name_en"
   ]
  },
  {
   "cell_type": "code",
   "execution_count": 17,
   "metadata": {},
   "outputs": [
    {
     "data": {
      "text/plain": [
       "'سافيو كليمينت سيكيرا سيكيرا كليمينت جوزيف'"
      ]
     },
     "execution_count": 17,
     "metadata": {},
     "output_type": "execute_result"
    }
   ],
   "source": [
    "name_ar = driver.find_element(\n",
    "    By.XPATH,\n",
    "    \"/html/body/form/div[3]/main/div[3]/div/div/div[2]/div/div[1]/div[2]/div[2]/span\",\n",
    ").text\n",
    "name_ar"
   ]
  },
  {
   "cell_type": "code",
   "execution_count": 18,
   "metadata": {},
   "outputs": [
    {
     "data": {
      "text/plain": [
       "'05*****466'"
      ]
     },
     "execution_count": 18,
     "metadata": {},
     "output_type": "execute_result"
    }
   ],
   "source": [
    "phone_no = driver.find_element(\n",
    "    By.XPATH,\n",
    "    \"/html/body/form/div[3]/main/div[3]/div/div/div[2]/div/div[3]/div/div[2]/div[2]\",\n",
    ").text\n",
    "phone_no"
   ]
  },
  {
   "cell_type": "code",
   "execution_count": null,
   "metadata": {},
   "outputs": [],
   "source": []
  }
 ],
 "metadata": {
  "kernelspec": {
   "display_name": ".venv",
   "language": "python",
   "name": "python3"
  },
  "language_info": {
   "codemirror_mode": {
    "name": "ipython",
    "version": 3
   },
   "file_extension": ".py",
   "mimetype": "text/x-python",
   "name": "python",
   "nbconvert_exporter": "python",
   "pygments_lexer": "ipython3",
   "version": "3.11.4"
  },
  "orig_nbformat": 4
 },
 "nbformat": 4,
 "nbformat_minor": 2
}
