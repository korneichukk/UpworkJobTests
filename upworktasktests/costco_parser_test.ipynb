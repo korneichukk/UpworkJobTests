{
 "cells": [
  {
   "cell_type": "code",
   "execution_count": null,
   "metadata": {},
   "outputs": [],
   "source": [
    "from selenium import webdriver\n",
    "from selenium.webdriver.common.by import By"
   ]
  },
  {
   "cell_type": "code",
   "execution_count": null,
   "metadata": {},
   "outputs": [],
   "source": [
    "driver = webdriver.Chrome()"
   ]
  },
  {
   "cell_type": "code",
   "execution_count": null,
   "metadata": {},
   "outputs": [],
   "source": [
    "driver.get(\"https://careers.costco.co.uk/jobsearch.cfm\")"
   ]
  },
  {
   "cell_type": "code",
   "execution_count": null,
   "metadata": {},
   "outputs": [],
   "source": [
    "driver.find_element(By.XPATH, \".//button[@value='SEARCH']\").click()"
   ]
  },
  {
   "cell_type": "code",
   "execution_count": null,
   "metadata": {},
   "outputs": [],
   "source": [
    "vacancies = driver.find_element(By.CLASS_NAME, \"searchresultspage\").find_elements(By.TAG_NAME, \"a\")\n",
    "len(vacancies)"
   ]
  },
  {
   "cell_type": "code",
   "execution_count": null,
   "metadata": {},
   "outputs": [],
   "source": [
    "for vacancy in vacancies:\n",
    "    print(f\"Vacancy Link: {vacancy.get_attribute('href')}\")\n",
    "    print(f\"Vacancy Name: {vacancy.find_element(By.TAG_NAME, 'h2').text}\")\n",
    "    \n",
    "    info = vacancy.find_elements(By.TAG_NAME, \"p\")\n",
    "    salary = info[-1]\n",
    "    loc = info[-2]\n",
    "    desc = info[:-2]\n",
    "    \n",
    "    print(f\"Vacancy Description: {' '.join([i.text for i in desc])}\")\n",
    "    print(f\"Vacancy Location: {loc.text}\")\n",
    "    print(f\"Vacancy Salary: {salary.text}\")\n",
    "    \n",
    "    print('-'*50)"
   ]
  },
  {
   "cell_type": "code",
   "execution_count": null,
   "metadata": {},
   "outputs": [],
   "source": []
  }
 ],
 "metadata": {
  "kernelspec": {
   "display_name": ".venv",
   "language": "python",
   "name": "python3"
  },
  "language_info": {
   "codemirror_mode": {
    "name": "ipython",
    "version": 3
   },
   "file_extension": ".py",
   "mimetype": "text/x-python",
   "name": "python",
   "nbconvert_exporter": "python",
   "pygments_lexer": "ipython3",
   "version": "3.11.4"
  },
  "orig_nbformat": 4
 },
 "nbformat": 4,
 "nbformat_minor": 2
}
