{
 "cells": [
  {
   "cell_type": "code",
   "execution_count": 4,
   "metadata": {},
   "outputs": [],
   "source": [
    "from selenium import webdriver\n",
    "from selenium.webdriver.common.by import By"
   ]
  },
  {
   "cell_type": "code",
   "execution_count": 2,
   "metadata": {},
   "outputs": [],
   "source": [
    "driver = webdriver.Chrome()"
   ]
  },
  {
   "cell_type": "code",
   "execution_count": 3,
   "metadata": {},
   "outputs": [],
   "source": [
    "driver.get(\"https://careers.costco.co.uk/jobsearch.cfm\")"
   ]
  },
  {
   "cell_type": "code",
   "execution_count": 6,
   "metadata": {},
   "outputs": [],
   "source": [
    "driver.find_element(By.XPATH, \".//button[@value='SEARCH']\").click()"
   ]
  },
  {
   "cell_type": "code",
   "execution_count": 7,
   "metadata": {},
   "outputs": [
    {
     "data": {
      "text/plain": [
       "16"
      ]
     },
     "execution_count": 7,
     "metadata": {},
     "output_type": "execute_result"
    }
   ],
   "source": [
    "vacancies = driver.find_element(By.CLASS_NAME, \"searchresultspage\").find_elements(By.TAG_NAME, \"a\")\n",
    "len(vacancies)"
   ]
  },
  {
   "cell_type": "code",
   "execution_count": 14,
   "metadata": {},
   "outputs": [
    {
     "name": "stdout",
     "output_type": "stream",
     "text": [
      "Vacancy Link: https://careers.costco.co.uk/job.cfm/reference/A-O-D-101180/source/iintegra/\n",
      "Vacancy Name: Audiologist\n",
      "Vacancy Description: We offer great jobs, great pay, and a great place to work! We are currently looking for a full time Audiologist for our DerbyWarehouse. In return, we can offer a competitive salary, personal and career growth, a friendly and supportive work environment and great benefits including life insurance, optical and dental benefit, pension plan and Employee Assistance Programme. We are a multi-billion dollar global membership warehouse club...\n",
      "Vacancy Location: Location: Derby\n",
      "Vacancy Salary: Salary: Competitive\n",
      "--------------------------------------------------\n",
      "Vacancy Link: https://careers.costco.co.uk/job.cfm/reference/WGA-B-W-100135/source/iintegra/\n",
      "Vacancy Name: Warehouse General Assistant\n",
      "Vacancy Description: We offer great jobs, great pay, great benefits and a great place to work! We are currently looking for part time Warehouse General Assistants for our Birmingham warehouse. In return, we can offer a competitive rate of pay starting at (GBP)11.20 raising to (GBP)15.55 after the qualifying period, personal and career growth, a friendly and supportive work environment and great benefits including life insurance, optical and dental benefit...\n",
      "Vacancy Location: Location: Birmingham\n",
      "Vacancy Salary: Salary: £11.20 raising to £15.55 after qualifying period\n",
      "--------------------------------------------------\n",
      "Vacancy Link: https://careers.costco.co.uk/job.cfm/reference/FCCA-B-A-100046/source/iintegra/\n",
      "Vacancy Name: Food Court (Cafe) Assistant\n",
      "Vacancy Description: Costco offers great jobs, great pay, great benefits and a great place to work! We are currently looking for full time and part time Food Court (Cafe) Assistant at our Bristol Warehouse. In return we can offer a competitive salary, personal and career growth, a friendly and supportive work environment and great benefits including life insurance, optical and dental benefit, pension plan and Employee Assistance Programme. We are a...\n",
      "Vacancy Location: Location: Bristol\n",
      "Vacancy Salary: Salary: £11.20 - 15.55 per hour\n",
      "--------------------------------------------------\n",
      "Vacancy Link: https://careers.costco.co.uk/job.cfm/reference/SASC-E-L-99101/source/iintegra/\n",
      "Vacancy Name: Warehouse / General Assistants\n",
      "Vacancy Description: We offer great jobs, great pay, great benefits and a great place to work! We are currently looking for Part Time Warehouse / General Assistants for our Edinburgh warehouse. In return, we can offer a competitive rate of pay starting at (GBP)11.20 raising to (GBP)15.55 after the qualifying period, personal and career growth, a friendly and supportive work environment and great benefits including life insurance, optical and dental benefit...\n",
      "Vacancy Location: Location: Edinburgh\n",
      "Vacancy Salary: Salary: £11.20 - £15.55\n",
      "--------------------------------------------------\n",
      "Vacancy Link: https://careers.costco.co.uk/job.cfm/reference/SDM-SOT-S-98373/source/iintegra/\n",
      "Vacancy Name: Service Deli Manager\n",
      "Vacancy Description: We offer great jobs, great pay, and a great place to work! We are currently looking for a Service Deli Manager for our Sunbury Warehouse. In return, we can offer a competitive starting salary of (GBP)40 000 per annum, personal and career growth, a friendly and supportive work environment and great benefits including life insurance, optical and dental benefit, pension plan and Employee Assistance Programme. We are a multi-billion dollar...\n",
      "Vacancy Location: Location: Sunbury-on-Thames\n",
      "Vacancy Salary: Salary: Starting salary £40 000 per annum\n",
      "--------------------------------------------------\n",
      "Vacancy Link: https://careers.costco.co.uk/job.cfm/reference/OA-MK-B-97975/source/iintegra/\n",
      "Vacancy Name: Optical Assistant\n",
      "Vacancy Description: We offer great jobs, great pay, great benefits and a great place to work! We are currently looking for full time and part time Optical Assistants for our Milton Keynes Warehouse. In return we can offer competitive rates of pay between (GBP)11.20-15.55 per hour, personal and career growth, a friendly and supportive work environment and great benefits including life insurance, optical and dental benefit, pension plan and Employee Assistance...\n",
      "Vacancy Location: Location: Milton Keynes\n",
      "Vacancy Salary: Salary: £11.20 -15.55 per hour\n",
      "--------------------------------------------------\n",
      "Vacancy Link: https://careers.costco.co.uk/job.cfm/reference/OS-MK-B-98005/source/iintegra/\n",
      "Vacancy Name: Optical Supervisor\n",
      "Vacancy Description: We offer great jobs, great pay, and a great place to work! We are currently looking for full time Optical Supervisor for our Milton Keynes Warehouse. In return, we can offer a competitive salary of (GBP)16.55 an hour, personal and career growth, a friendly and supportive work environment and great benefits including life insurance, optical and dental benefit, pension plan and Employee Assistance Programme. We are a multi-billion dollar...\n",
      "Vacancy Location: Location: Milton Keynes\n",
      "Vacancy Salary: Salary: £16.55 per hour\n",
      "--------------------------------------------------\n",
      "Vacancy Link: https://careers.costco.co.uk/job.cfm/reference/WGA-L-L-97390/source/iintegra/\n",
      "Vacancy Name: Part Time Warehouse General Assistant\n",
      "Vacancy Description: We offer great jobs, great pay, great benefits and a great place to work! We are currently looking for a part-time Warehouse General Assistant for our Leicester warehouse. In return, we can offer a competitive rate of pay starting at (GBP)11.20 raising to (GBP)15.55 after the qualifying period, personal and career growth, a friendly and supportive work environment and great benefits including life insurance, optical and dental benefit...\n",
      "Vacancy Location: Location: Leicester\n",
      "Vacancy Salary: Salary: £11.20 raising to £15.55 after qualifying period\n",
      "--------------------------------------------------\n",
      "Vacancy Link: https://careers.costco.co.uk/job.cfm/reference/WGA-S-H-96967/source/iintegra/\n",
      "Vacancy Name: Warehouse / General Assistant\n",
      "Vacancy Description: We offer great jobs, great pay, great benefits and a great place to work! We are currently looking for Warehouse / General Assistants for our Stevenage warehouse. In return, we can offer a competitive rate of pay starting at (GBP)11.20 raising to (GBP)15.55 after the qualifying period, personal and career growth, a friendly and supportive work environment and great benefits including life insurance, optical and dental benefit, pension plan...\n",
      "Vacancy Location: Location: Hertfordshire\n",
      "Vacancy Salary: Salary: £11.20 raising to £15.55 after qualifying period\n",
      "--------------------------------------------------\n",
      "Vacancy Link: https://careers.costco.co.uk/job.cfm/reference/CA-MK-B-96976/source/iintegra/\n",
      "Vacancy Name: Cafe Assistant\n",
      "Vacancy Description: We offer great jobs, great pay, great benefits and a great place to work! We are currently looking for full time and part time Cafe Assistant to join our Milton Keynes warehouse. In return we can offer a competitive rate of pay starting at (GBP)11.20 and rising to (GBP)15.55 per hour depending on experience, personal and career growth, a friendly and supportive work environment and great benefits including life insurance, optical and dental...\n",
      "Vacancy Location: Location: Milton Keynes\n",
      "Vacancy Salary: Salary: Starting £11.20 per hour rising to £15.55 DOE\n",
      "--------------------------------------------------\n",
      "Vacancy Link: https://careers.costco.co.uk/job.cfm/reference/MMSA-MK-B-96978/source/iintegra/\n",
      "Vacancy Name: Marketing/Membership Service Assistant\n",
      "Vacancy Description: We offer great jobs, great pay, great benefits and a great place to work! We are currently looking for Full Time & Part Time Marketing/ Membership Service Assistants to join our Milton Keynes warehouse. In return, we can offer competitive rates of pay starting at (GBP)11.20 rising to (GBP)15.55 per hour, personal and career growth, a friendly and supportive work environment and great benefits including life insurance, optical and dental...\n",
      "Vacancy Location: Location: Milton Keynes\n",
      "Vacancy Salary: Salary: £11.20 to £15.55 per hour DOE\n",
      "--------------------------------------------------\n",
      "Vacancy Link: https://careers.costco.co.uk/job.cfm/reference/SA-MK-B-96980/source/iintegra/\n",
      "Vacancy Name: Stocker\n",
      "Vacancy Description: We offer great jobs, great pay, great benefits and a great place to work! We are currently looking for a Stocker to join our Milton Keynes warehouse on a flexible basis. In return we can offer a competitive rate of pay starting (GBP)11.20 and rising to (GBP)15.55 per hour depending on personal and career growth, a friendly and supportive work environment and great benefits including life insurance, optical and dental benefit, pension plan...\n",
      "Vacancy Location: Location: Milton Keynes\n",
      "Vacancy Salary: Salary: 11.20 to 15.55 per hour DOE\n",
      "--------------------------------------------------\n",
      "Vacancy Link: https://careers.costco.co.uk/job.cfm/reference/WGA-A-A-96411/source/iintegra/\n",
      "Vacancy Name: Warehouse / General Assistant\n",
      "Vacancy Description: We offer great jobs, great pay, great benefits and a great place to work! We are currently looking for full time & part time Warehouse / General Assistants for our Aberdeen warehouse. In return, we can offer a competitive rate of pay starting at (GBP)11.20 raising to (GBP)15.55 after the qualifying period, personal and career growth, a friendly and supportive work environment and great benefits including life insurance, optical and dental...\n",
      "Vacancy Location: Location: Westhill\n",
      "Vacancy Salary: Salary: £11.20 raising to £15.55 after qualifying period\n",
      "--------------------------------------------------\n",
      "Vacancy Link: https://careers.costco.co.uk/job.cfm/reference/B-M-G-95678/source/iintegra/\n",
      "Vacancy Name: Baker\n",
      "Vacancy Description: We offer great jobs, great pay, great benefits and a great place to work! We are currently looking for part time and full time Bakers for our Manchester warehouse. In return we can offer competitive rates of pay between (GBP)11.15 - (GBP)15.05 per hour, personal and career growth, a friendly and supportive work environment and great benefits including life insurance, optical and dental benefit, pension plan and Employee Assistance Programme...\n",
      "Vacancy Location: Location: Manchester\n",
      "Vacancy Salary: Salary: £11.15 raising to £15.05 after qualifying period\n",
      "--------------------------------------------------\n",
      "Vacancy Link: https://careers.costco.co.uk/job.cfm/reference/CD-M-G-95680/source/iintegra/\n",
      "Vacancy Name: Cake Decorator\n",
      "Vacancy Description: We offer great jobs, great pay, great benefits and a great place to work! We are currently looking part time and full time Cake Decorators for our Manchester warehouse. In return, we can offer a competitive rate of pay starting at (GBP)11.15 raising to (GBP)15.05 after the qualifying period, personal and career growth, a friendly and supportive work environment and great benefits including life insurance, optical and dental benefit, pension...\n",
      "Vacancy Location: Location: Manchester\n",
      "Vacancy Salary: Salary: £11.15 raising to £15.05 after qualifying period\n",
      "--------------------------------------------------\n",
      "Vacancy Link: https://careers.costco.co.uk/job.cfm/reference/WGA-D-D-95694/source/iintegra/\n",
      "Vacancy Name: Warehouse / General Assistant\n",
      "Vacancy Description: We offer great jobs, great pay, great benefits and a great place to work! We are currently looking for part time Warehouse / General Assistants for our Derby warehouse. In return, we can offer a competitive rate of pay starting at (GBP)11.15 raising to (GBP)15.05 after the qualifying period, personal and career growth, a friendly and supportive work environment and great benefits including life insurance, optical and dental benefit, pension...\n",
      "Vacancy Location: Location: Derby\n",
      "Vacancy Salary: Salary: £11.15 raising to £15.05 after qualifying period\n",
      "--------------------------------------------------\n"
     ]
    }
   ],
   "source": [
    "for vacancy in vacancies:\n",
    "    print(f\"Vacancy Link: {vacancy.get_attribute('href')}\")\n",
    "    print(f\"Vacancy Name: {vacancy.find_element(By.TAG_NAME, 'h2').text}\")\n",
    "    \n",
    "    info = vacancy.find_elements(By.TAG_NAME, \"p\")\n",
    "    salary = info[-1]\n",
    "    loc = info[-2]\n",
    "    desc = info[:-2]\n",
    "    \n",
    "    print(f\"Vacancy Description: {' '.join([i.text for i in desc])}\")\n",
    "    print(f\"Vacancy Location: {loc.text}\")\n",
    "    print(f\"Vacancy Salary: {salary.text}\")\n",
    "    \n",
    "    print('-'*50)"
   ]
  },
  {
   "cell_type": "code",
   "execution_count": null,
   "metadata": {},
   "outputs": [],
   "source": []
  }
 ],
 "metadata": {
  "kernelspec": {
   "display_name": ".venv",
   "language": "python",
   "name": "python3"
  },
  "language_info": {
   "codemirror_mode": {
    "name": "ipython",
    "version": 3
   },
   "file_extension": ".py",
   "mimetype": "text/x-python",
   "name": "python",
   "nbconvert_exporter": "python",
   "pygments_lexer": "ipython3",
   "version": "3.11.4"
  },
  "orig_nbformat": 4
 },
 "nbformat": 4,
 "nbformat_minor": 2
}
