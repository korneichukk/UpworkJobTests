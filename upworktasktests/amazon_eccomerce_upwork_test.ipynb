{
 "cells": [
  {
   "cell_type": "code",
   "execution_count": 1,
   "metadata": {},
   "outputs": [],
   "source": [
    "from selenium import webdriver\n",
    "from selenium.webdriver.common.keys import Keys\n",
    "from selenium.webdriver.common.by import By"
   ]
  },
  {
   "cell_type": "code",
   "execution_count": 2,
   "metadata": {},
   "outputs": [],
   "source": [
    "url = \"https://www.amazon.com/Samsung-SM-S918B-DS-Unlocked-International/dp/B0BV19GMG1/ref=sr_1_1?keywords=samsung+galaxy+s23+ultra&qid=1691910824&sprefix=sa%2Caps%2C189&sr=8-1\""
   ]
  },
  {
   "cell_type": "code",
   "execution_count": 12,
   "metadata": {},
   "outputs": [],
   "source": [
    "driver = webdriver.Chrome()\n",
    "driver.get(url)"
   ]
  },
  {
   "cell_type": "code",
   "execution_count": 13,
   "metadata": {},
   "outputs": [
    {
     "data": {
      "text/plain": [
       "'SAMSUNG Galaxy S23 Ultra 5G (SM-S918B/DS) Dual SIM 256GB 8GB RAM, GSM Unlocked International Version - Phantom Black'"
      ]
     },
     "execution_count": 13,
     "metadata": {},
     "output_type": "execute_result"
    }
   ],
   "source": [
    "title = driver.find_element(By.ID, \"productTitle\").text\n",
    "title"
   ]
  },
  {
   "cell_type": "code",
   "execution_count": 14,
   "metadata": {},
   "outputs": [
    {
     "data": {
      "text/plain": [
       "<selenium.webdriver.remote.webelement.WebElement (session=\"e117256bb6065d7b8fd9170d3b1b350d\", element=\"665304F8F040588209CDB2E132F51F7C_element_117\")>"
      ]
     },
     "execution_count": 14,
     "metadata": {},
     "output_type": "execute_result"
    }
   ],
   "source": [
    "spec_table = driver.find_element(By.XPATH, '/html/body/div[1]/div[2]/div[10]/div[5]/div[4]/div[41]/div/div[1]/div')\n",
    "spec_table"
   ]
  },
  {
   "cell_type": "code",
   "execution_count": 15,
   "metadata": {},
   "outputs": [
    {
     "data": {
      "text/plain": [
       "'     <table class=\"a-normal a-spacing-micro\">  <tbody><tr class=\"a-spacing-small po-brand\"> <td class=\"a-span3\">        <span class=\"a-size-base a-text-bold\">Brand</span>      </td> <td class=\"a-span9\">    <span class=\"a-size-base po-break-word\">SAMSUNG</span>   </td> </tr>  <tr class=\"a-spacing-small po-model_name\"> <td class=\"a-span3\">        <span class=\"a-size-base a-text-bold\">Model Name</span>      </td> <td class=\"a-span9\">    <span class=\"a-size-base po-break-word\">SM-S918B/DS</span>   </td> </tr>  <tr class=\"a-spacing-small po-wireless_provider\"> <td class=\"a-span3\">        <span class=\"a-size-base a-text-bold\">Wireless Carrier</span>      </td> <td class=\"a-span9\">    <span class=\"a-size-base po-break-word\">Unlocked for All Carriers</span>   </td> </tr>  <tr class=\"a-spacing-small po-operating_system\"> <td class=\"a-span3\">        <span class=\"a-size-base a-text-bold\">Operating System</span>      </td> <td class=\"a-span9\">    <span class=\"a-size-base po-break-word\">Android 13.0</span>   </td> </tr>  <tr class=\"a-spacing-small po-cellular_technology\"> <td class=\"a-span3\">        <span class=\"a-size-base a-text-bold\">Cellular Technology</span>      </td> <td class=\"a-span9\">    <span class=\"a-size-base po-break-word\">5G</span>   </td> </tr>  <tr class=\"a-spacing-small po-memory_storage_capacity\"> <td class=\"a-span3\">        <span class=\"a-size-base a-text-bold\">Memory Storage Capacity</span>      </td> <td class=\"a-span9\">    <span class=\"a-size-base po-break-word\">256 GB</span>   </td> </tr>  <tr class=\"a-spacing-small po-connectivity_technology\"> <td class=\"a-span3\">        <span class=\"a-size-base a-text-bold\">Connectivity Technology</span>      </td> <td class=\"a-span9\">    <span class=\"a-size-base po-break-word\">Wi-Fi</span>   </td> </tr>  <tr class=\"a-spacing-small po-color\"> <td class=\"a-span3\">        <span class=\"a-size-base a-text-bold\">Color</span>      </td> <td class=\"a-span9\">    <span class=\"a-size-base po-break-word\">BLACK - 8GB+256GB</span>   </td> </tr>  <tr class=\"a-spacing-small po-display.size\"> <td class=\"a-span3\">        <span class=\"a-size-base a-text-bold\">Screen Size</span>      </td> <td class=\"a-span9\">    <span class=\"a-size-base po-break-word\">6.8 Inches</span>   </td> </tr>  <tr class=\"a-spacing-small po-wireless_network_technology\"> <td class=\"a-span3\">        <span class=\"a-size-base a-text-bold\">Wireless network technology</span>      </td> <td class=\"a-span9\">    <span class=\"a-size-base po-break-word\">GSM</span>   </td> </tr>   </tbody></table>    '"
      ]
     },
     "execution_count": 15,
     "metadata": {},
     "output_type": "execute_result"
    }
   ],
   "source": [
    "spec_table.get_attribute('innerHTML')"
   ]
  },
  {
   "cell_type": "code",
   "execution_count": 16,
   "metadata": {},
   "outputs": [],
   "source": [
    "import pandas as pd"
   ]
  },
  {
   "cell_type": "code",
   "execution_count": 17,
   "metadata": {},
   "outputs": [
    {
     "name": "stdout",
     "output_type": "stream",
     "text": [
      "The following packages are already present in the pyproject.toml and will be skipped:\n",
      "\n",
      "  • \u001b[36mhtml5lib\u001b[39m\n",
      "  • \u001b[36mbs4\u001b[39m\n",
      "\n",
      "If you want to update it to the latest compatible version, you can use `poetry update package`.\n",
      "If you prefer to upgrade it to the latest available version, you can use `poetry add package@latest`.\n",
      "\n",
      "Nothing to add.\n"
     ]
    }
   ],
   "source": [
    "!poetry add html5lib bs4"
   ]
  },
  {
   "cell_type": "code",
   "execution_count": 18,
   "metadata": {},
   "outputs": [
    {
     "data": {
      "text/plain": [
       "<module 'pandas' from '/home/jesus/code/UpworkTaskTests/.venv/lib/python3.11/site-packages/pandas/__init__.py'>"
      ]
     },
     "execution_count": 18,
     "metadata": {},
     "output_type": "execute_result"
    }
   ],
   "source": [
    "table = pd.read_html(spec_table.get_attribute(\"innerHTML\"))\n",
    "table"
   ]
  },
  {
   "cell_type": "code",
   "execution_count": 22,
   "metadata": {},
   "outputs": [
    {
     "ename": "TypeError",
     "evalue": "object of type 'module' has no len()",
     "output_type": "error",
     "traceback": [
      "\u001b[0;31m---------------------------------------------------------------------------\u001b[0m",
      "\u001b[0;31mTypeError\u001b[0m                                 Traceback (most recent call last)",
      "Cell \u001b[0;32mIn[22], line 1\u001b[0m\n\u001b[0;32m----> 1\u001b[0m \u001b[39mlen\u001b[39;49m(pd)\n",
      "\u001b[0;31mTypeError\u001b[0m: object of type 'module' has no len()"
     ]
    }
   ],
   "source": [
    "len"
   ]
  },
  {
   "cell_type": "code",
   "execution_count": null,
   "metadata": {},
   "outputs": [],
   "source": []
  }
 ],
 "metadata": {
  "kernelspec": {
   "display_name": ".venv",
   "language": "python",
   "name": "python3"
  },
  "language_info": {
   "codemirror_mode": {
    "name": "ipython",
    "version": 3
   },
   "file_extension": ".py",
   "mimetype": "text/x-python",
   "name": "python",
   "nbconvert_exporter": "python",
   "pygments_lexer": "ipython3",
   "version": "3.11.4"
  },
  "orig_nbformat": 4
 },
 "nbformat": 4,
 "nbformat_minor": 2
}
