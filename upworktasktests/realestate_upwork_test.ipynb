{
 "cells": [
  {
   "cell_type": "code",
   "execution_count": 1,
   "metadata": {},
   "outputs": [],
   "source": [
    "from selenium import webdriver\n",
    "\n",
    "from selenium.webdriver.common.keys import Keys\n",
    "from selenium.webdriver.common.by import By"
   ]
  },
  {
   "cell_type": "code",
   "execution_count": 2,
   "metadata": {},
   "outputs": [],
   "source": [
    "driver = webdriver.Chrome()"
   ]
  },
  {
   "cell_type": "code",
   "execution_count": 4,
   "metadata": {},
   "outputs": [
    {
     "data": {
      "text/plain": [
       "(28,\n",
       " ['https://www.njuskalo.hr/nekretnine/garaza-zagreb-srednjaci-drniska-22-26-16-m2-oglas-38278571',\n",
       "  'https://www.njuskalo.hr/nekretnine/garaza-skladiste-najam-zagreb-sigecica-21.56-m2-iznajmljivanje-oglas-37191662',\n",
       "  'https://www.njuskalo.hr/nekretnine/garaza-pula-20-m2-oglas-41096537',\n",
       "  'https://www.njuskalo.hr/nekretnine/garazno-parkirno-mjesto-tresnjevka-park-kate-soljic-selska-ulica-oglas-41095604',\n",
       "  'https://www.njuskalo.hr/nekretnine/garaza-zadar-23-m2-oglas-40931032'])"
      ]
     },
     "execution_count": 4,
     "metadata": {},
     "output_type": "execute_result"
    }
   ],
   "source": [
    "with open(\"urls_28.txt\", \"r\") as file:\n",
    "    data = file.read().split(\"\\n\")\n",
    "len(data), data[:5]"
   ]
  },
  {
   "cell_type": "code",
   "execution_count": 5,
   "metadata": {},
   "outputs": [],
   "source": [
    "driver.get(data[0])"
   ]
  },
  {
   "cell_type": "code",
   "execution_count": 6,
   "metadata": {},
   "outputs": [],
   "source": [
    "try:\n",
    "    driver.find_element(By.ID, \"didomi-notice-agree-button\").click()\n",
    "except Exception as e:\n",
    "    print(e)\n",
    "    pass"
   ]
  },
  {
   "cell_type": "code",
   "execution_count": 7,
   "metadata": {},
   "outputs": [
    {
     "data": {
      "text/plain": [
       "'70 € / 527,42 kn'"
      ]
     },
     "execution_count": 7,
     "metadata": {},
     "output_type": "execute_result"
    }
   ],
   "source": [
    "price = driver.find_element(By.CLASS_NAME, \"ClassifiedDetailSummary-priceDomestic\").text\n",
    "price"
   ]
  },
  {
   "cell_type": "code",
   "execution_count": 11,
   "metadata": {},
   "outputs": [],
   "source": [
    "address_phone = driver.find_elements(By.CSS_SELECTOR, \"li[class='ClassifiedDetailOwnerDetails-contactEntry']\")"
   ]
  },
  {
   "cell_type": "code",
   "execution_count": 13,
   "metadata": {},
   "outputs": [
    {
     "name": "stdout",
     "output_type": "stream",
     "text": [
      "Adresa: \n",
      "Grad Zagreb, Hrvatska\n",
      "098/821-938\n"
     ]
    }
   ],
   "source": [
    "print(price)\n",
    "for ap in address_phone[len(address_phone) // 2:]:\n",
    "    print(ap.text)"
   ]
  },
  {
   "cell_type": "code",
   "execution_count": null,
   "metadata": {},
   "outputs": [],
   "source": [
    "price, "
   ]
  }
 ],
 "metadata": {
  "kernelspec": {
   "display_name": ".venv",
   "language": "python",
   "name": "python3"
  },
  "language_info": {
   "codemirror_mode": {
    "name": "ipython",
    "version": 3
   },
   "file_extension": ".py",
   "mimetype": "text/x-python",
   "name": "python",
   "nbconvert_exporter": "python",
   "pygments_lexer": "ipython3",
   "version": "3.11.4"
  },
  "orig_nbformat": 4
 },
 "nbformat": 4,
 "nbformat_minor": 2
}
