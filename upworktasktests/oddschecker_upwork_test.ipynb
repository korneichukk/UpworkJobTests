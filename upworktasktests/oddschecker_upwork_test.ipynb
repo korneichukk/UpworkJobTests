{
 "cells": [
  {
   "cell_type": "code",
   "execution_count": 3,
   "metadata": {},
   "outputs": [],
   "source": [
    "from selenium import webdriver\n",
    "from selenium.webdriver.common.keys import Keys\n",
    "from selenium.webdriver.common.by import By\n",
    "from selenium.webdriver.chrome.options import Options\n",
    "from selenium.webdriver.chrome.service import Service\n",
    "from webdriver_manager.chrome import ChromeDriverManager"
   ]
  },
  {
   "cell_type": "code",
   "execution_count": 4,
   "metadata": {},
   "outputs": [],
   "source": [
    "options = Options()\n",
    "service = Service(ChromeDriverManager().install())\n",
    "\n",
    "driver = webdriver.Chrome(service=service, options=options)"
   ]
  },
  {
   "cell_type": "code",
   "execution_count": 5,
   "metadata": {},
   "outputs": [],
   "source": [
    "driver.get(\"https://www.oddschecker.com/football/english/premier-league/burnley-v-man-city/winner\")"
   ]
  },
  {
   "cell_type": "code",
   "execution_count": 13,
   "metadata": {},
   "outputs": [],
   "source": [
    "man_city_button_counter = 1\n",
    "buttons = []\n",
    "while True:\n",
    "    try:\n",
    "        man_c_button = driver.find_element(By.XPATH, f'//*[@id=\"scrollable-container-3556448128\"]/div[4]/button[{man_city_button_counter}]')\n",
    "        buttons.append(man_c_button.text)\n",
    "    except:\n",
    "        break\n",
    "    \n",
    "    man_city_button_counter += 1"
   ]
  },
  {
   "cell_type": "code",
   "execution_count": 14,
   "metadata": {},
   "outputs": [
    {
     "data": {
      "text/plain": [
       "['1/3',\n",
       " '3/10',\n",
       " '2/7',\n",
       " '1/3',\n",
       " '3/10',\n",
       " '3/10',\n",
       " '1/3',\n",
       " '4/11',\n",
       " '7/20',\n",
       " '4/11',\n",
       " '3/10',\n",
       " '1/3',\n",
       " '7/20',\n",
       " '1/3',\n",
       " '4/11',\n",
       " '1/3',\n",
       " '1/3',\n",
       " '4/11',\n",
       " '31/ 100',\n",
       " '3/8',\n",
       " '4/11',\n",
       " '4/11',\n",
       " '1/3',\n",
       " '4/11',\n",
       " '1/3',\n",
       " '4/11']"
      ]
     },
     "execution_count": 14,
     "metadata": {},
     "output_type": "execute_result"
    }
   ],
   "source": [
    "buttons"
   ]
  },
  {
   "cell_type": "code",
   "execution_count": 17,
   "metadata": {},
   "outputs": [],
   "source": [
    "burnley_button_counter = 1\n",
    "buttons_burnley = []\n",
    "while True:\n",
    "    try:\n",
    "        burnley_button = driver.find_element(By.XPATH, f'//*[@id=\"scrollable-container-3556448128\"]/div[6]/button[{burnley_button_counter}]')\n",
    "        buttons_burnley.append(burnley_button.text)\n",
    "    except:\n",
    "        break\n",
    "    \n",
    "    burnley_button_counter += 1"
   ]
  },
  {
   "cell_type": "code",
   "execution_count": 18,
   "metadata": {},
   "outputs": [
    {
     "data": {
      "text/plain": [
       "['7/1',\n",
       " '7/1',\n",
       " '8/1',\n",
       " '8/1',\n",
       " '8/1',\n",
       " '17/2',\n",
       " '17/2',\n",
       " '15/2',\n",
       " '15/2',\n",
       " '15/2',\n",
       " '8/1',\n",
       " '7/1',\n",
       " '8/1',\n",
       " '15/2',\n",
       " '8/1',\n",
       " '7/1',\n",
       " '15/2',\n",
       " '8/1',\n",
       " '33/4',\n",
       " '8/1',\n",
       " '15/2',\n",
       " '8/1',\n",
       " '17/2',\n",
       " '15/2',\n",
       " '44/5',\n",
       " '9/1']"
      ]
     },
     "execution_count": 18,
     "metadata": {},
     "output_type": "execute_result"
    }
   ],
   "source": [
    "buttons_burnley"
   ]
  },
  {
   "cell_type": "code",
   "execution_count": 19,
   "metadata": {},
   "outputs": [],
   "source": [
    "draw_button_counter = 1\n",
    "buttons_draw = []\n",
    "while True:\n",
    "    try:\n",
    "        draw_button = driver.find_element(By.XPATH, f'//*[@id=\"scrollable-container-3556448128\"]/div[5]/button[{draw_button_counter}]')\n",
    "        buttons_draw.append(draw_button.text)\n",
    "    except:\n",
    "        break\n",
    "    \n",
    "    draw_button_counter += 1"
   ]
  },
  {
   "cell_type": "code",
   "execution_count": 20,
   "metadata": {},
   "outputs": [
    {
     "data": {
      "text/plain": [
       "['9/2',\n",
       " '17/4',\n",
       " '9/2',\n",
       " '4/1',\n",
       " '9/2',\n",
       " '9/2',\n",
       " '17/4',\n",
       " '4/1',\n",
       " '22/5',\n",
       " '9/2',\n",
       " '9/2',\n",
       " '4/1',\n",
       " '17/4',\n",
       " '17/4',\n",
       " '9/2',\n",
       " '4/1',\n",
       " '9/2',\n",
       " '17/4',\n",
       " '23/5',\n",
       " '9/2',\n",
       " '19/5',\n",
       " '17/4',\n",
       " '17/4',\n",
       " '22/5',\n",
       " '23/5',\n",
       " '23/5']"
      ]
     },
     "execution_count": 20,
     "metadata": {},
     "output_type": "execute_result"
    }
   ],
   "source": [
    "buttons_draw"
   ]
  },
  {
   "cell_type": "code",
   "execution_count": 22,
   "metadata": {},
   "outputs": [
    {
     "data": {
      "text/plain": [
       "[('9/2', '1/3', '7/1'),\n",
       " ('17/4', '3/10', '7/1'),\n",
       " ('9/2', '2/7', '8/1'),\n",
       " ('4/1', '1/3', '8/1'),\n",
       " ('9/2', '3/10', '8/1'),\n",
       " ('9/2', '3/10', '17/2'),\n",
       " ('17/4', '1/3', '17/2'),\n",
       " ('4/1', '4/11', '15/2'),\n",
       " ('22/5', '7/20', '15/2'),\n",
       " ('9/2', '4/11', '15/2'),\n",
       " ('9/2', '3/10', '8/1'),\n",
       " ('4/1', '1/3', '7/1'),\n",
       " ('17/4', '7/20', '8/1'),\n",
       " ('17/4', '1/3', '15/2'),\n",
       " ('9/2', '4/11', '8/1'),\n",
       " ('4/1', '1/3', '7/1'),\n",
       " ('9/2', '1/3', '15/2'),\n",
       " ('17/4', '4/11', '8/1'),\n",
       " ('23/5', '31/ 100', '33/4'),\n",
       " ('9/2', '3/8', '8/1'),\n",
       " ('19/5', '4/11', '15/2'),\n",
       " ('17/4', '4/11', '8/1'),\n",
       " ('17/4', '1/3', '17/2'),\n",
       " ('22/5', '4/11', '15/2'),\n",
       " ('23/5', '1/3', '44/5'),\n",
       " ('23/5', '4/11', '9/1')]"
      ]
     },
     "execution_count": 22,
     "metadata": {},
     "output_type": "execute_result"
    }
   ],
   "source": [
    "result = list(zip(buttons_draw, buttons, buttons_burnley))\n",
    "result"
   ]
  },
  {
   "cell_type": "code",
   "execution_count": null,
   "metadata": {},
   "outputs": [],
   "source": []
  }
 ],
 "metadata": {
  "kernelspec": {
   "display_name": ".venv",
   "language": "python",
   "name": "python3"
  },
  "language_info": {
   "codemirror_mode": {
    "name": "ipython",
    "version": 3
   },
   "file_extension": ".py",
   "mimetype": "text/x-python",
   "name": "python",
   "nbconvert_exporter": "python",
   "pygments_lexer": "ipython3",
   "version": "3.11.4"
  },
  "orig_nbformat": 4
 },
 "nbformat": 4,
 "nbformat_minor": 2
}
