{
 "cells": [
  {
   "cell_type": "code",
   "execution_count": 11,
   "metadata": {},
   "outputs": [],
   "source": [
    "from selenium import webdriver\n",
    "from selenium.webdriver.common.keys import Keys\n",
    "from selenium.webdriver.common.by import By\n",
    "\n",
    "from webdriver_manager.chrome import ChromeDriverManager"
   ]
  },
  {
   "cell_type": "code",
   "execution_count": 12,
   "metadata": {},
   "outputs": [
    {
     "name": "stderr",
     "output_type": "stream",
     "text": [
      "/tmp/ipykernel_1251510/2277734814.py:1: DeprecationWarning: executable_path has been deprecated, please pass in a Service object\n",
      "  driver = webdriver.Chrome(ChromeDriverManager().install())\n"
     ]
    }
   ],
   "source": [
    "driver = webdriver.Chrome(ChromeDriverManager().install())\n",
    "driver.maximize_window()"
   ]
  },
  {
   "cell_type": "code",
   "execution_count": 13,
   "metadata": {},
   "outputs": [],
   "source": [
    "driver.get(\"https://www.musicalamerica.com/datalistings/index.cfm\")"
   ]
  },
  {
   "cell_type": "code",
   "execution_count": 14,
   "metadata": {},
   "outputs": [],
   "source": [
    "driver.find_element(By.ID, \"t3\").click()"
   ]
  },
  {
   "cell_type": "code",
   "execution_count": 15,
   "metadata": {},
   "outputs": [],
   "source": [
    "driver.find_element(By.XPATH , \"/html/body/div[6]/div/div[1]/div/div/div[4]/div/div[2]/div[1]/div[2]/input[5]\").click()"
   ]
  },
  {
   "cell_type": "code",
   "execution_count": 16,
   "metadata": {},
   "outputs": [],
   "source": [
    "driver.find_element(By.XPATH, \"/html/body/div[6]/div/div[1]/div/div/div[4]/div/div[2]/div[7]/div/form/div[9]/input[1]\").click()"
   ]
  },
  {
   "cell_type": "code",
   "execution_count": 17,
   "metadata": {},
   "outputs": [
    {
     "name": "stdout",
     "output_type": "stream",
     "text": [
      "Arts & Humanities Council of Tuscaloosa County\n",
      "PO Box 1117\n",
      "Tuscaloosa, AL 35403-1117\n",
      "Phone:\n",
      "(205) 345-9801, (205) 758-5195\n",
      "e-mail:\n",
      "education@tuscarts.org\n",
      "director@tuscarts.org\n",
      "Web:\n",
      "www.tuscarts.org\n",
      "Manager(s):\n",
      "Shannon McCue\n",
      "Other Pers.:\n",
      "Sandra Wolfe, Exec. Dir.\n",
      "Attractions:\n",
      "12\n",
      "Aud. Cap.:\n",
      "Bama Theatre 1000\n",
      "Artist Budget:\n",
      "less than $10,000\n",
      "Events:\n",
      "Chamber Music\n",
      "Multi-Media\n",
      "Choral\n",
      "Children's\n",
      "Birmingham Music Club\n",
      "PO Box 10486\n",
      "Birmingham, AL 35202\n",
      "Phone:\n",
      "(205) 253-1313\n",
      "e-mail:\n",
      "bhammusicclub@gmail.com\n",
      "Web:\n",
      "www.bhammusicclub.org\n",
      "Manager(s):\n",
      "Ron Bourdages, Exec. Dir.\n",
      "Other Pers.:\n",
      "Randi Bourdages, Ticket Coord.; Warren Page, Dev. Mgr.\n",
      "Attractions:\n",
      "5\n",
      "Aud. Cap.:\n",
      "Alabama Theatre 2600\n",
      "Lyric Theatre 700\n",
      "Clubhouse On Highland 100\n",
      "Various 300\n",
      "\n",
      "Artist Budget:\n",
      "$20,000 - $35,000\n",
      "Events:\n",
      "Chamber Orchestra\n",
      "Light Operatic\n",
      "Jazz & Blues\n",
      "General Classical\n",
      "Recitals\n",
      "Children's\n"
     ]
    }
   ],
   "source": [
    "for i in range(2, 6, 2):\n",
    "    item = driver.find_element(By.XPATH, f'//*[@id=\"usperf_results\"]/div[2]/div[{i}]')\n",
    "    \n",
    "    print(item.text)"
   ]
  },
  {
   "cell_type": "code",
   "execution_count": null,
   "metadata": {},
   "outputs": [],
   "source": [
    "how to write "
   ]
  }
 ],
 "metadata": {
  "kernelspec": {
   "display_name": ".venv",
   "language": "python",
   "name": "python3"
  },
  "language_info": {
   "codemirror_mode": {
    "name": "ipython",
    "version": 3
   },
   "file_extension": ".py",
   "mimetype": "text/x-python",
   "name": "python",
   "nbconvert_exporter": "python",
   "pygments_lexer": "ipython3",
   "version": "3.11.4"
  },
  "orig_nbformat": 4
 },
 "nbformat": 4,
 "nbformat_minor": 2
}
